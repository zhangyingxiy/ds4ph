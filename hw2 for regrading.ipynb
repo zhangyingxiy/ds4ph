{
 "cells": [
  {
   "cell_type": "code",
   "execution_count": 33,
   "id": "5fb66793-186b-48b0-92f3-a0fb15da6894",
   "metadata": {},
   "outputs": [
    {
     "name": "stdin",
     "output_type": "stream",
     "text": [
      "Are you smart? N\n"
     ]
    },
    {
     "name": "stdout",
     "output_type": "stream",
     "text": [
      "Ravenclaw\n"
     ]
    }
   ],
   "source": [
    "a = input(\"Are you smart?\")\n",
    "if a == \"Y\" :\n",
    "    print(\"Slytherin\")\n",
    "elif a == \"N\":\n",
    "    print(\"Ravenclaw\")\n",
    "else :\n",
    "    print(\"Gryffindor\")\n",
    "    "
   ]
  },
  {
   "cell_type": "code",
   "execution_count": 1,
   "id": "4ebda9b6-0101-4fd6-836b-5b619d1198b5",
   "metadata": {},
   "outputs": [
    {
     "name": "stdout",
     "output_type": "stream",
     "text": [
      "24.6\n",
      "37.64359175211632\n"
     ]
    }
   ],
   "source": [
    "import numpy as np\n",
    "\n",
    "class numbers:\n",
    "    def __init__(self, mydata):\n",
    "        self.value = mydata\n",
    "    def mean(self):\n",
    "        return(np.mean(self.value))\n",
    "    def std(self):\n",
    "        return(np.std(self.value))\n",
    "    def print(self):\n",
    "        print(self.value)\n",
    "    \n",
    "\n",
    "mydata = np.array([1, 2, 4, 17, 99])\n",
    "print(mydata.mean())\n",
    "print(mydata.std())\n",
    "\n"
   ]
  },
  {
   "cell_type": "code",
   "execution_count": 166,
   "id": "65247ff6-00fa-42db-b1fa-9cbe15885d25",
   "metadata": {},
   "outputs": [
    {
     "name": "stdout",
     "output_type": "stream",
     "text": [
      "['nan', 1, 6, 8]\n"
     ]
    }
   ],
   "source": [
    "import numpy as np\n",
    "\n",
    "a = [1, 6, 8, 4]\n",
    "def lag(a, n):\n",
    "    a = ['nan']*n+a[:-n]\n",
    "    return a\n",
    "n = 1\n",
    "print(lag(a,n))"
   ]
  },
  {
   "cell_type": "code",
   "execution_count": 3,
   "id": "73848f3b-84bb-4b68-87d4-635e4efd1189",
   "metadata": {},
   "outputs": [
    {
     "ename": "SyntaxError",
     "evalue": "'return' outside function (1206845778.py, line 6)",
     "output_type": "error",
     "traceback": [
      "\u001b[0;36m  File \u001b[0;32m\"/var/folders/s5/2203ms4n7rd94rl_mjh0mt_80000gn/T/ipykernel_2734/1206845778.py\"\u001b[0;36m, line \u001b[0;32m6\u001b[0m\n\u001b[0;31m    return a\u001b[0m\n\u001b[0m    ^\u001b[0m\n\u001b[0;31mSyntaxError\u001b[0m\u001b[0;31m:\u001b[0m 'return' outside function\n"
     ]
    }
   ],
   "source": [
    "import numpy as np\n",
    " \n",
    "def lagGenerator(n):\n",
    "    a = [1, 6, 8, 4]\n",
    "    a = ['nan']*n+a[:-n]\n",
    "    return a\n",
    "\n",
    "    \n"
   ]
  },
  {
   "cell_type": "code",
   "execution_count": null,
   "id": "60311f98-8d0a-4c11-b775-b78b6ab8e18d",
   "metadata": {},
   "outputs": [],
   "source": []
  }
 ],
 "metadata": {
  "kernelspec": {
   "display_name": "Python 3 (ipykernel)",
   "language": "python",
   "name": "python3"
  },
  "language_info": {
   "codemirror_mode": {
    "name": "ipython",
    "version": 3
   },
   "file_extension": ".py",
   "mimetype": "text/x-python",
   "name": "python",
   "nbconvert_exporter": "python",
   "pygments_lexer": "ipython3",
   "version": "3.9.7"
  }
 },
 "nbformat": 4,
 "nbformat_minor": 5
}
